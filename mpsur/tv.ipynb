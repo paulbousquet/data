{
 "cells": [
  {
   "cell_type": "code",
   "execution_count": null,
   "metadata": {},
   "outputs": [],
   "source": [
    "import os\n",
    "import pandas as pd\n",
    "import numpy as np\n",
    "\n",
    "# Set the directory path\n",
    "#directory = \n",
    "\n",
    "# Initialize an empty list to store the combined DataFrames\n",
    "combined_dfs = []\n",
    "\n",
    "for year in range(2007, 2025):\n",
    "    file_path = os.path.join(directory, f\"market_history_{year}.csv\")\n",
    "    \n",
    "    df = pd.read_csv(file_path, usecols=[\"Day\", \"Market Participant\", \"Total Trade Count\", \"Total Shares\"])\n",
    "    \n",
    "    nyse_dn = df[(df[\"Market Participant\"] == \"NYSE (DN)\")]\n",
    "    nyse_n = df[(df[\"Market Participant\"] == \"NYSE (N)\")]\n",
    "    nasdaq_t = df[df[\"Market Participant\"].str.upper().isin([\"NASDAQ (DQ)\"])]\n",
    "    nasdaq_q = df[df[\"Market Participant\"].str.upper().isin([\"NASDAQ (Q)\"])]\n",
    "    \n",
    "    nyse_combined = nyse_dn.set_index(\"Day\")[[\"Total Trade Count\", \"Total Shares\"]].add(\n",
    "        nyse_n.set_index(\"Day\")[[\"Total Trade Count\", \"Total Shares\"]], fill_value=0\n",
    "    )\n",
    "    nyse_combined[\"Market Participant\"] = \"NYSE\"\n",
    "    nyse_combined.reset_index(inplace=True)\n",
    "    \n",
    "    nasdaq_combined = nasdaq_t.set_index(\"Day\")[[\"Total Trade Count\", \"Total Shares\"]].add(\n",
    "        nasdaq_q.set_index(\"Day\")[[\"Total Trade Count\", \"Total Shares\"]], fill_value=0\n",
    "    )\n",
    "    nasdaq_combined[\"Market Participant\"] = \"NASDAQ\"\n",
    "    nasdaq_combined.reset_index(inplace=True)\n",
    "    \n",
    "    combined_df = pd.concat([nyse_combined, nasdaq_combined])\n",
    "    \n",
    "    combined_df[\"Total Trade Count\"] = np.log(combined_df[\"Total Trade Count\"])\n",
    "    combined_df[\"Total Shares\"] = np.log(combined_df[\"Total Shares\"])\n",
    "    \n",
    "    combined_dfs.append(combined_df)\n",
    "\n",
    "consolidated_df = pd.concat(combined_dfs, ignore_index=True)\n",
    "\n",
    "print(consolidated_df)"
   ]
  }
 ],
 "metadata": {
  "language_info": {
   "name": "python"
  }
 },
 "nbformat": 4,
 "nbformat_minor": 2
}
